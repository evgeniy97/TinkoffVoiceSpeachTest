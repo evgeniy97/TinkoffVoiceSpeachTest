{
 "cells": [
  {
   "cell_type": "code",
   "execution_count": 7,
   "metadata": {},
   "outputs": [],
   "source": [
    "import requests\n",
    "\n",
    "import numpy as np\n",
    "from setting import API_KEY, SECRET_KEY"
   ]
  },
  {
   "cell_type": "code",
   "execution_count": 8,
   "metadata": {},
   "outputs": [],
   "source": [
    "# auth.py\n",
    "\n",
    "import json\n",
    "import base64\n",
    "import hmac\n",
    "import copy\n",
    "from time import time\n",
    "\n",
    "TEN_MINUTES = 600  # seconds\n",
    "\n",
    "\n",
    "def pad_base64(base64_str):\n",
    "    len_ = len(base64_str)\n",
    "    num_equals_signs = 4 - len_ % 4\n",
    "    if num_equals_signs < 4:\n",
    "        equals_signs = '=' * num_equals_signs\n",
    "        return base64_str + equals_signs\n",
    "    return base64_str\n",
    "\n",
    "\n",
    "def generate_jwt(api_key, secret_key, payload, expiration_time=TEN_MINUTES):\n",
    "    header = {\n",
    "        \"alg\": \"HS256\",\n",
    "        \"typ\": \"JWT\",\n",
    "        \"kid\": api_key\n",
    "    }\n",
    "    payload_copy = copy.deepcopy(payload)\n",
    "    current_timestamp = int(time())\n",
    "    payload_copy[\"exp\"] = current_timestamp + expiration_time\n",
    "    # payload_copy[\"iat\"] = current_timestamp\n",
    "    # payload_copy[\"nbf\"] = current_timestamp\n",
    "    payload_bytes = json.dumps(payload_copy, separators=(',', ':')).encode(\"utf-8\")\n",
    "    header_bytes = json.dumps(header, separators=(',', ':')).encode(\"utf-8\")\n",
    "\n",
    "    data = (base64.urlsafe_b64encode(header_bytes) + b\".\" +\n",
    "            base64.urlsafe_b64encode(payload_bytes))\n",
    "\n",
    "    signature = hmac.new(base64.urlsafe_b64decode(pad_base64(secret_key)), msg=data,\n",
    "                         digestmod=\"sha256\")\n",
    "    jwt = data + b\".\" + base64.urlsafe_b64encode(signature.digest())\n",
    "    return jwt.decode(\"utf-8\")\n",
    "\n",
    "\n",
    "def authorization_metadata(api_key, secret_key, scope, type=list):\n",
    "    auth_payload = {\n",
    "       \"iss\": \"test_issuer\",\n",
    "       \"sub\": \"test_user\",\n",
    "       \"aud\": scope\n",
    "    }\n",
    "\n",
    "    metadata = [\n",
    "        (\"authorization\", \"Bearer \" + generate_jwt(api_key, secret_key, auth_payload))\n",
    "    ]\n",
    "    return type(metadata)\n"
   ]
  },
  {
   "cell_type": "code",
   "execution_count": 12,
   "metadata": {},
   "outputs": [
    {
     "ename": "ImportError",
     "evalue": "cannot import name 'stt_pb2_grpc'",
     "output_type": "error",
     "traceback": [
      "\u001b[1;31m---------------------------------------------------------------------------\u001b[0m",
      "\u001b[1;31mImportError\u001b[0m                               Traceback (most recent call last)",
      "\u001b[1;32m<ipython-input-12-6e05142d7b56>\u001b[0m in \u001b[0;36m<module>\u001b[1;34m()\u001b[0m\n\u001b[1;32m----> 1\u001b[1;33m \u001b[1;32mfrom\u001b[0m \u001b[0mapis\u001b[0m \u001b[1;32mimport\u001b[0m \u001b[0mstt_pb2_grpc\u001b[0m\u001b[1;33m\u001b[0m\u001b[0m\n\u001b[0m\u001b[0;32m      2\u001b[0m \u001b[1;32mfrom\u001b[0m \u001b[0mcommon\u001b[0m \u001b[1;32mimport\u001b[0m \u001b[0mbuild_recognition_request\u001b[0m\u001b[1;33m,\u001b[0m \u001b[0mmake_channel\u001b[0m\u001b[1;33m,\u001b[0m \u001b[0mprint_recognition_response\u001b[0m\u001b[1;33m,\u001b[0m \u001b[0mRecognitionParser\u001b[0m\u001b[1;33m\u001b[0m\u001b[0m\n",
      "\u001b[1;31mImportError\u001b[0m: cannot import name 'stt_pb2_grpc'"
     ]
    }
   ],
   "source": [
    "# recognize.py\n",
    "\n",
    "from apis import stt_pb2_grpc\n",
    "from common import build_recognition_request, make_channel, print_recognition_response, RecognitionParser\n",
    "\n",
    "def main():\n",
    "    args = RecognitionParser().parse_args()\n",
    "    if args.encoding == \"RAW_OPUS\":\n",
    "        raise ValueError(\"RAW_OPUS encoding is not supported by this script\")\n",
    "    stub = stt_pb2_grpc.SpeechToTextStub(make_channel(args.host, args.port))\n",
    "    metadata = authorization_metadata(args.api_key, args.secret_key, \"tinkoff.cloud.stt\")\n",
    "    response = stub.Recognize(build_recognition_request(args), metadata=metadata)\n",
    "    print_recognition_response(response)"
   ]
  },
  {
   "cell_type": "code",
   "execution_count": null,
   "metadata": {},
   "outputs": [],
   "source": []
  }
 ],
 "metadata": {
  "kernelspec": {
   "display_name": "Python 3",
   "language": "python",
   "name": "python3"
  },
  "language_info": {
   "codemirror_mode": {
    "name": "ipython",
    "version": 3
   },
   "file_extension": ".py",
   "mimetype": "text/x-python",
   "name": "python",
   "nbconvert_exporter": "python",
   "pygments_lexer": "ipython3",
   "version": "3.6.4"
  }
 },
 "nbformat": 4,
 "nbformat_minor": 2
}
